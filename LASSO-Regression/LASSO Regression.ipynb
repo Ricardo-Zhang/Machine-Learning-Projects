{
 "cells": [
  {
   "cell_type": "markdown",
   "metadata": {},
   "source": [
    "# Ridge, LASSO, Root-LASSO Regression"
   ]
  },
  {
   "cell_type": "code",
   "execution_count": 3,
   "metadata": {
    "collapsed": true
   },
   "outputs": [],
   "source": [
    "import numpy as np\n",
    "import scipy as sc\n",
    "import matplotlib.pyplot as plt\n",
    "from cvxpy import *\n",
    "%matplotlib inline"
   ]
  },
  {
   "cell_type": "markdown",
   "metadata": {},
   "source": [
    "## Simulating the AR model\n",
    "simulate 2nd order AR model: <latex>$y_{k} = a_1y_{k-1}+a_2y_{k-2}+w_{k}$"
   ]
  },
  {
   "cell_type": "code",
   "execution_count": 22,
   "metadata": {
    "collapsed": true
   },
   "outputs": [],
   "source": [
    "def systemSimulation(N,a1,a2,noisePwr,signalPwr):\n",
    "    '''\n",
    "    @N: int, length of the sequence\n",
    "    @a1: float, param 1\n",
    "    @a2: float, param 2\n",
    "    @noisePwr: float, power of noise\n",
    "    w: AWGN noise\n",
    "    '''\n",
    "    y = np.zeros(N)\n",
    "    y[0:2] = np.array([5,10])\n",
    "    for i in range(N-2):\n",
    "        y[i+2] = a1*y[i+1]+a2*y[i]+np.random.randn()*np.sqrt(noisePwr)\n",
    "    return y"
   ]
  },
  {
   "cell_type": "code",
   "execution_count": 23,
   "metadata": {},
   "outputs": [
    {
     "data": {
      "text/plain": [
       "[<matplotlib.lines.Line2D at 0x11783e8d0>]"
      ]
     },
     "execution_count": 23,
     "metadata": {},
     "output_type": "execute_result"
    },
    {
     "data": {
      "image/png": "[encoded data removed]",
      "text/plain": [
       "<matplotlib.figure.Figure at 0x11dcd7630>"
      ]
     },
     "metadata": {},
     "output_type": "display_data"
    }
   ],
   "source": [
    "y = systemSimulation(1000,0.9,0.1,1,100)\n",
    "plt.plot(y)"
   ]
  },
  {
   "cell_type": "code",
   "execution_count": 31,
   "metadata": {
    "collapsed": true
   },
   "outputs": [],
   "source": [
    "## Classical Least Square"
   ]
  },
  {
   "cell_type": "code",
   "execution_count": 40,
   "metadata": {
    "collapsed": true
   },
   "outputs": [],
   "source": [
    "def RidgeRegression(y,lambdaParam):\n",
    "    '''\n",
    "    @lambdaParam: float, parameter for Ridge penality\n",
    "    '''\n",
    "    phi = sc.linalg.toeplitz(y)\n",
    "    phi = phi[0:2,1:-1]\n",
    "    estimatedParam = np.linalg.inv(phi@phi.T+lambdaParam*np.eye(2))@phi@y[2:]\n",
    "    return estimatedParam"
   ]
  },
  {
   "cell_type": "code",
   "execution_count": 41,
   "metadata": {},
   "outputs": [
    {
     "name": "stdout",
     "output_type": "stream",
     "text": [
      "[ 0.90299118  0.09628877]\n",
      "[ 0.84020676  0.15900195]\n",
      "[ 0.7943175   0.20481945]\n",
      "[ 0.7593094   0.23975547]\n",
      "[ 0.73172002  0.26727253]\n",
      "[ 0.70941509  0.28950501]\n",
      "[ 0.69100735  0.30784017]\n",
      "[ 0.67555605  0.32321881]\n",
      "[ 0.66240068  0.33630147]\n",
      "[ 0.65106385  0.34756553]\n"
     ]
    }
   ],
   "source": [
    "for lambdaParam in range(10):\n",
    "    RidgeEstimation = RidgeRegression(y,lambdaParam*100+1)\n",
    "    print(RidgeEstimation)"
   ]
  },
  {
   "cell_type": "code",
   "execution_count": 42,
   "metadata": {
    "collapsed": true
   },
   "outputs": [],
   "source": [
    "def LassoRegression(y,lambdaParam):\n",
    "    '''\n",
    "    @lambdaParam: float, parameter for LASSO penality\n",
    "    '''\n",
    "    phi = sc.linalg.toeplitz(y)\n",
    "    phi = phi[0:2,1:-1]\n",
    "    LassoEstimation = Variable(2)\n",
    "    objective = Minimize(sum_squares(y[2:] - phi.T@LassoEstimation)+lambdaParam*pnorm(LassoEstimation,1))\n",
    "    prob = Problem(objective)\n",
    "    result = prob.solve()\n",
    "    return LassoEstimation.value"
   ]
  },
  {
   "cell_type": "code",
   "execution_count": 43,
   "metadata": {},
   "outputs": [
    {
     "name": "stdout",
     "output_type": "stream",
     "text": [
      "[[ 0.90373553]\n",
      " [ 0.0955444 ]]\n",
      "[[ 0.90370303]\n",
      " [ 0.09550363]]\n",
      "[[ 0.90389759]\n",
      " [ 0.09523576]]\n",
      "[[ 0.90363136]\n",
      " [ 0.09542879]]\n",
      "[[ 0.90359263]\n",
      " [ 0.09539426]]\n",
      "[[ 0.90356535]\n",
      " [ 0.09534828]]\n",
      "[[ 0.90352447]\n",
      " [ 0.0953159 ]]\n",
      "[[ 0.90348877]\n",
      " [ 0.09527835]]\n",
      "[[ 0.90345407]\n",
      " [ 0.09523979]]\n",
      "[[ 0.90342484]\n",
      " [ 0.09519575]]\n"
     ]
    }
   ],
   "source": [
    "for lambdaParam in range(10):\n",
    "    LassoEstimation = LassoRegression(y,lambdaParam*100+1)\n",
    "    print(LassoEstimation)"
   ]
  },
  {
   "cell_type": "code",
   "execution_count": 44,
   "metadata": {
    "collapsed": true
   },
   "outputs": [],
   "source": [
    "def LeastSquareRegression(y):\n",
    "    phi = sc.linalg.toeplitz(y)\n",
    "    phi = phi[0:2,1:-1]\n",
    "    estimatedParam = np.linalg.inv(phi@phi.T)@phi@y[2:]\n",
    "    return estimatedParam"
   ]
  },
  {
   "cell_type": "code",
   "execution_count": 45,
   "metadata": {},
   "outputs": [
    {
     "name": "stdout",
     "output_type": "stream",
     "text": [
      "[ 0.903736    0.09554466]\n"
     ]
    }
   ],
   "source": [
    "LSEstimation = LeastSquareRegression(y)\n",
    "print(LSEstimation)"
   ]
  },
  {
   "cell_type": "code",
   "execution_count": 46,
   "metadata": {
    "collapsed": true
   },
   "outputs": [],
   "source": [
    "def RootLassoRegression(y,muParam):\n",
    "    '''\n",
    "    @muParam: float, parameter for Square Root LASSO penality\n",
    "    '''\n",
    "    phi = sc.linalg.toeplitz(y)\n",
    "    phi = phi[0:2,1:-1]\n",
    "    n = np.sqrt(len(y))\n",
    "    RootLassoEstimation = Variable(2)\n",
    "    objective = Minimize(n*sum_squares(y[2:] - phi.T@RootLassoEstimation)+muParam*pnorm(RootLassoEstimation,1))\n",
    "    prob = Problem(objective)\n",
    "    result = prob.solve(solver='CVXOPT')\n",
    "    return RootLassoEstimation.value"
   ]
  },
  {
   "cell_type": "code",
   "execution_count": 47,
   "metadata": {},
   "outputs": [
    {
     "name": "stdout",
     "output_type": "stream",
     "text": [
      "[[ 0.90373479]\n",
      " [ 0.09554585]]\n",
      "[[ 0.90365925]\n",
      " [ 0.0956191 ]]\n",
      "[[ 0.90392248]\n",
      " [ 0.09535336]]\n",
      "[[ 0.90377267]\n",
      " [ 0.0955009 ]]\n",
      "[[ 0.90381081]\n",
      " [ 0.09546049]]\n",
      "[[ 0.90377783]\n",
      " [ 0.09549119]]\n",
      "[[ 0.90369635]\n",
      " [ 0.09557034]]\n",
      "[[ 0.90382596]\n",
      " [ 0.09543834]]\n",
      "[[ 0.90414436]\n",
      " [ 0.09511726]]\n",
      "[[ 0.90375193]\n",
      " [ 0.09550783]]\n"
     ]
    }
   ],
   "source": [
    "for muParam in range(10):\n",
    "    RootLassoEstimation = RootLassoRegression(y,muParam*100+1)\n",
    "    print(RootLassoEstimation)"
   ]
  },
  {
   "cell_type": "code",
   "execution_count": null,
   "metadata": {
    "collapsed": true
   },
   "outputs": [],
   "source": []
  },
  {
   "cell_type": "code",
   "execution_count": null,
   "metadata": {
    "collapsed": true
   },
   "outputs": [],
   "source": []
  }
 ],
 "metadata": {
  "kernelspec": {
   "display_name": "Python 3",
   "language": "python",
   "name": "python3"
  },
  "language_info": {
   "codemirror_mode": {
    "name": "ipython",
    "version": 3
   },
   "file_extension": ".py",
   "mimetype": "text/x-python",
   "name": "python",
   "nbconvert_exporter": "python",
   "pygments_lexer": "ipython3",
   "version": "3.6.2"
  }
 },
 "nbformat": 4,
 "nbformat_minor": 2
}
