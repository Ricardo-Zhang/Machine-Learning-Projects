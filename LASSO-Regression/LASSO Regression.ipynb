{
 "cells": [
  {
   "cell_type": "markdown",
   "metadata": {},
   "source": [
    "# Ridge, LASSO, Root-LASSO Regression"
   ]
  },
  {
   "cell_type": "code",
   "execution_count": 22,
   "metadata": {
    "collapsed": true
   },
   "outputs": [],
   "source": [
    "import numpy as np\n",
    "import scipy as sc\n",
    "import matplotlib.pyplot as plt\n",
    "from cvxpy import *\n",
    "%matplotlib inline"
   ]
  },
  {
   "cell_type": "markdown",
   "metadata": {},
   "source": [
    "## Simulating the AR model\n",
    "simulate 2nd order AR model: <latex>$y_{k} = a_1y_{k-1}+a_2y_{k-2}+w_{k}$"
   ]
  },
  {
   "cell_type": "code",
   "execution_count": 243,
   "metadata": {
    "collapsed": true
   },
   "outputs": [],
   "source": [
    "def systemSimulation(N,a1,a2,noisePwr,signalPwr):\n",
    "    '''\n",
    "    @N: int, length of the sequence\n",
    "    @a1: float, param 1\n",
    "    @a2: float, param 2\n",
    "    @noisePwr: float, power of noise\n",
    "    w: AWGN noise\n",
    "    '''\n",
    "    y = np.zeros(N)\n",
    "    y[0:2] = np.array([5,10])\n",
    "    for i in range(N-2):\n",
    "        y[i+2] = a1*y[i+1]+a2*y[i]+np.random.randn()*np.sqrt(noisePwr)\n",
    "    return y"
   ]
  },
  {
   "cell_type": "code",
   "execution_count": 247,
   "metadata": {},
   "outputs": [
    {
     "data": {
      "text/plain": [
       "[<matplotlib.lines.Line2D at 0x11eb2ed68>]"
      ]
     },
     "execution_count": 247,
     "metadata": {},
     "output_type": "execute_result"
    },
    {
     "data": {
      "image/png": "[encoded data removed]",
      "text/plain": [
       "<matplotlib.figure.Figure at 0x11ebef6d8>"
      ]
     },
     "metadata": {},
     "output_type": "display_data"
    }
   ],
   "source": [
    "y = systemSimulation(1000,0.9,0.1,1,100)\n",
    "plt.plot(y)"
   ]
  },
  {
   "cell_type": "code",
   "execution_count": null,
   "metadata": {
    "collapsed": true
   },
   "outputs": [],
   "source": [
    "## Classical Least Squa"
   ]
  },
  {
   "cell_type": "code",
   "execution_count": 248,
   "metadata": {},
   "outputs": [],
   "source": [
    "def RidgeRegression(y,lambdaParam):\n",
    "    '''\n",
    "    @lambdaParam: float, parameter for Ridge penality\n",
    "    '''\n",
    "    phi = sc.linalg.toeplitz(y)\n",
    "    phi = phi[0:2,1:-1]\n",
    "    estimatedParam = np.linalg.inv(phi@phi.T+lambdaParam*np.eye(2))@phi@y[2:]\n",
    "    return estimatedParam"
   ]
  },
  {
   "cell_type": "code",
   "execution_count": 249,
   "metadata": {},
   "outputs": [
    {
     "name": "stdout",
     "output_type": "stream",
     "text": [
      "[ 0.87227428  0.12435459]\n",
      "[ 0.87157808  0.12504742]\n",
      "[ 0.87088446  0.12573768]\n",
      "[ 0.8701934   0.12642537]\n",
      "[ 0.86950489  0.12711052]\n"
     ]
    }
   ],
   "source": [
    "for lambdaParam in range(10):\n",
    "    RidgeEstimation = RidgeRegression(y,lambdaParam+1)\n",
    "    print(RidgeEstimation)"
   ]
  },
  {
   "cell_type": "code",
   "execution_count": 250,
   "metadata": {
    "collapsed": true
   },
   "outputs": [],
   "source": [
    "def LassoRegression(y,lambdaParam):\n",
    "    '''\n",
    "    @lambdaParam: float, parameter for LASSO penality\n",
    "    '''\n",
    "    phi = sc.linalg.toeplitz(y)\n",
    "    phi = phi[0:2,1:-1]\n",
    "    LassoEstimation = Variable(2)\n",
    "    objective = Minimize(sum_squares(y[2:] - phi.T@LassoEstimation)+lambdaParam*pnorm(LassoEstimation,1))\n",
    "    prob = Problem(objective)\n",
    "    result = prob.solve()\n",
    "    return LassoEstimation.value"
   ]
  },
  {
   "cell_type": "code",
   "execution_count": 251,
   "metadata": {},
   "outputs": [
    {
     "name": "stdout",
     "output_type": "stream",
     "text": [
      "[[ 0.87297137]\n",
      " [ 0.12365754]]\n",
      "[[ 0.87296967]\n",
      " [ 0.1236559 ]]\n",
      "[[ 0.87296798]\n",
      " [ 0.12365427]]\n",
      "[[ 0.87296628]\n",
      " [ 0.12365264]]\n",
      "[[ 0.87296462]\n",
      " [ 0.12365098]]\n",
      "[[ 0.87296289]\n",
      " [ 0.12364937]]\n",
      "[[ 0.87296115]\n",
      " [ 0.12364779]]\n",
      "[[ 0.8729595 ]\n",
      " [ 0.12364611]]\n",
      "[[ 0.87295777]\n",
      " [ 0.12364451]]\n",
      "[[ 0.87295611]\n",
      " [ 0.12364284]]\n"
     ]
    }
   ],
   "source": [
    "for lambdaParam in range(10):\n",
    "    LassoEstimation = LassoRegression(y,lambdaParam+1)\n",
    "    print(LassoEstimation)"
   ]
  },
  {
   "cell_type": "code",
   "execution_count": 252,
   "metadata": {
    "collapsed": true
   },
   "outputs": [],
   "source": [
    "def LeastSquareRegression(y):\n",
    "    phi = sc.linalg.toeplitz(y)\n",
    "    phi = phi[0:2,1:-1]\n",
    "    estimatedParam = np.linalg.inv(phi@phi.T)@phi@y[2:]\n",
    "    return estimatedParam"
   ]
  },
  {
   "cell_type": "code",
   "execution_count": 253,
   "metadata": {},
   "outputs": [
    {
     "name": "stdout",
     "output_type": "stream",
     "text": [
      "[ 0.87297306  0.12365917]\n"
     ]
    }
   ],
   "source": [
    "LSEstimation = LeastSquareRegression(y)\n",
    "print(LSEstimation)"
   ]
  },
  {
   "cell_type": "code",
   "execution_count": 256,
   "metadata": {
    "collapsed": true
   },
   "outputs": [],
   "source": [
    "def RootLassoRegression(y,muParam):\n",
    "    '''\n",
    "    @muParam: float, parameter for Square Root LASSO penality\n",
    "    '''\n",
    "    phi = sc.linalg.toeplitz(y)\n",
    "    phi = phi[0:2,1:-1]\n",
    "    RootLassoEstimation = Variable(2)\n",
    "    objective = Minimize(sum_squares(y[2:] - phi.T@RootLassoEstimation)+muParam*np.std(y)*pnorm(RootLassoEstimation,1))\n",
    "    prob = Problem(objective)\n",
    "    result = prob.solve()\n",
    "    return RootLassoEstimation.value"
   ]
  },
  {
   "cell_type": "code",
   "execution_count": 257,
   "metadata": {},
   "outputs": [
    {
     "name": "stdout",
     "output_type": "stream",
     "text": [
      "[[ 0.8729589 ]\n",
      " [ 0.12364554]]\n",
      "[[ 0.8729447 ]\n",
      " [ 0.12363195]]\n",
      "[[ 0.87293057]\n",
      " [ 0.12361829]]\n",
      "[[ 0.87291639]\n",
      " [ 0.12360468]]\n",
      "[[ 0.87290226]\n",
      " [ 0.12359102]]\n",
      "[[ 0.87288812]\n",
      " [ 0.12357736]]\n",
      "[[ 0.8728739]\n",
      " [ 0.1235638]]\n",
      "[[ 0.87285978]\n",
      " [ 0.12355012]]\n",
      "[[ 0.87284564]\n",
      " [ 0.12353647]]\n",
      "[[ 0.87283144]\n",
      " [ 0.12352288]]\n"
     ]
    }
   ],
   "source": [
    "for muParam in range(10):\n",
    "    RootLassoEstimation = RootLassoRegression(y,muParam+1)\n",
    "    print(RootLassoEstimation)"
   ]
  },
  {
   "cell_type": "code",
   "execution_count": null,
   "metadata": {
    "collapsed": true
   },
   "outputs": [],
   "source": []
  }
 ],
 "metadata": {
  "kernelspec": {
   "display_name": "Python 3",
   "language": "python",
   "name": "python3"
  },
  "language_info": {
   "codemirror_mode": {
    "name": "ipython",
    "version": 3
   },
   "file_extension": ".py",
   "mimetype": "text/x-python",
   "name": "python",
   "nbconvert_exporter": "python",
   "pygments_lexer": "ipython3",
   "version": "3.6.2"
  }
 },
 "nbformat": 4,
 "nbformat_minor": 2
}
