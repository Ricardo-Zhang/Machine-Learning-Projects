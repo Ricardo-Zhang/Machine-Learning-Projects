{
 "cells": [
  {
   "cell_type": "markdown",
   "metadata": {},
   "source": [
    "# Ridge, LASSO, Root-LASSO Regression"
   ]
  },
  {
   "cell_type": "code",
   "execution_count": 1,
   "metadata": {
    "collapsed": true
   },
   "outputs": [],
   "source": [
    "import numpy as np\n",
    "import scipy as sc\n",
    "import matplotlib.pyplot as plt\n",
    "from cvxpy import *\n",
    "%matplotlib inline"
   ]
  },
  {
   "cell_type": "markdown",
   "metadata": {},
   "source": [
    "## Simulating the AR model\n",
    "simulate 2nd order AR model: <latex>$y_{k} = a_1y_{k-1}+a_2y_{k-2}+w_{k}$"
   ]
  },
  {
   "cell_type": "code",
   "execution_count": 2,
   "metadata": {
    "collapsed": true
   },
   "outputs": [],
   "source": [
    "def systemSimulation(N,a1,a2,noisePwr,signalPwr):\n",
    "    '''\n",
    "    @N: int, length of the sequence\n",
    "    @a1: float, param 1\n",
    "    @a2: float, param 2\n",
    "    @noisePwr: float, power of noise\n",
    "    w: AWGN noise\n",
    "    '''\n",
    "    y = np.zeros(N)\n",
    "    y[0:2] = np.array([5,10])\n",
    "    for i in range(N-2):\n",
    "        y[i+2] = a1*y[i+1]+a2*y[i]+np.random.randn()*np.sqrt(noisePwr)\n",
    "    return y"
   ]
  },
  {
   "cell_type": "code",
   "execution_count": 3,
   "metadata": {},
   "outputs": [
    {
     "data": {
      "text/plain": [
       "[<matplotlib.lines.Line2D at 0x11281d828>]"
      ]
     },
     "execution_count": 3,
     "metadata": {},
     "output_type": "execute_result"
    },
    {
     "data": {
      "image/png": "[encoded data removed]",
      "text/plain": [
       "<matplotlib.figure.Figure at 0x11278eb70>"
      ]
     },
     "metadata": {},
     "output_type": "display_data"
    }
   ],
   "source": [
    "y = systemSimulation(1000,a1=0.9,a2=0.1, noisePwr=1,signalPwr=100)\n",
    "plt.plot(y)"
   ]
  },
  {
   "cell_type": "markdown",
   "metadata": {},
   "source": [
    "## Classical Least Square Regression"
   ]
  },
  {
   "cell_type": "code",
   "execution_count": 4,
   "metadata": {
    "collapsed": true
   },
   "outputs": [],
   "source": [
    "def LeastSquareRegression(y):\n",
    "    phi = sc.linalg.toeplitz(y)\n",
    "    phi = phi[0:2,1:-1]\n",
    "    estimatedParam = np.linalg.inv(phi@phi.T)@phi@y[2:]\n",
    "    return estimatedParam"
   ]
  },
  {
   "cell_type": "code",
   "execution_count": 5,
   "metadata": {},
   "outputs": [
    {
     "name": "stdout",
     "output_type": "stream",
     "text": [
      "[ 0.84786256  0.14840753]\n"
     ]
    }
   ],
   "source": [
    "LSEstimation = LeastSquareRegression(y)\n",
    "print(LSEstimation)"
   ]
  },
  {
   "cell_type": "markdown",
   "metadata": {},
   "source": [
    "## Ridge Regression"
   ]
  },
  {
   "cell_type": "code",
   "execution_count": 6,
   "metadata": {
    "collapsed": true
   },
   "outputs": [],
   "source": [
    "def RidgeRegression(y,lambdaParam):\n",
    "    '''\n",
    "    @lambdaParam: float, parameter for Ridge penality\n",
    "    '''\n",
    "    phi = sc.linalg.toeplitz(y)\n",
    "    phi = phi[0:2,1:-1]\n",
    "    estimatedParam = np.linalg.inv(phi@phi.T+lambdaParam*np.eye(2))@phi@y[2:]\n",
    "    return estimatedParam"
   ]
  },
  {
   "cell_type": "code",
   "execution_count": 15,
   "metadata": {},
   "outputs": [
    {
     "name": "stdout",
     "output_type": "stream",
     "text": [
      "[ 0.84724826  0.14901824]\n",
      "[ 0.79503819  0.20086986]\n",
      "[ 0.75632548  0.23922555]\n",
      "[ 0.72646137  0.26873368]\n",
      "[ 0.70271208  0.29212777]\n",
      "[ 0.68336484  0.31112045]\n",
      "[ 0.66729193  0.32683932]\n",
      "[ 0.65372054  0.34005715]\n",
      "[ 0.64210333  0.35132122]\n",
      "[ 0.63204179  0.36103002]\n"
     ]
    }
   ],
   "source": [
    "for lambdaParam in range(10):\n",
    "    RidgeEstimation = RidgeRegression(y,lambdaParam*100+1)\n",
    "    print(RidgeEstimation)"
   ]
  },
  {
   "cell_type": "markdown",
   "metadata": {},
   "source": [
    "## LASSO Regression"
   ]
  },
  {
   "cell_type": "code",
   "execution_count": 16,
   "metadata": {
    "collapsed": true
   },
   "outputs": [],
   "source": [
    "def LassoRegression(y,lambdaParam):\n",
    "    '''\n",
    "    @lambdaParam: float, parameter for LASSO penality\n",
    "    '''\n",
    "    phi = sc.linalg.toeplitz(y)\n",
    "    phi = phi[0:2,1:-1]\n",
    "    LassoEstimation = Variable(2)\n",
    "    objective = Minimize(sum_squares(y[2:] - phi.T@LassoEstimation)+lambdaParam*pnorm(LassoEstimation,1))\n",
    "    prob = Problem(objective)\n",
    "    result = prob.solve()\n",
    "    return LassoEstimation.value"
   ]
  },
  {
   "cell_type": "code",
   "execution_count": 14,
   "metadata": {},
   "outputs": [
    {
     "name": "stdout",
     "output_type": "stream",
     "text": [
      "[[ 0.84786074]\n",
      " [ 0.1484058 ]]\n",
      "[[ 0.84767924]\n",
      " [ 0.14823195]]\n",
      "[[ 0.84749772]\n",
      " [ 0.14805811]]\n",
      "[[ 0.84731623]\n",
      " [ 0.14788425]]\n",
      "[[ 0.8471348 ]\n",
      " [ 0.14771032]]\n",
      "[[ 0.84695316]\n",
      " [ 0.1475366 ]]\n",
      "[[ 0.84677171]\n",
      " [ 0.1473627 ]]\n",
      "[[ 0.84659014]\n",
      " [ 0.14718892]]\n",
      "[[ 0.84640869]\n",
      " [ 0.14701501]]\n",
      "[[ 0.84622712]\n",
      " [ 0.14684123]]\n"
     ]
    }
   ],
   "source": [
    "for lambdaParam in range(10):\n",
    "    LassoEstimation = LassoRegression(y,lambdaParam*100+1)\n",
    "    print(LassoEstimation)"
   ]
  },
  {
   "cell_type": "markdown",
   "metadata": {},
   "source": [
    "## Square Root LASSO Regression"
   ]
  },
  {
   "cell_type": "code",
   "execution_count": 10,
   "metadata": {
    "collapsed": true
   },
   "outputs": [],
   "source": [
    "def RootLassoRegression(y,muParam):\n",
    "    '''\n",
    "    @muParam: float, parameter for Square Root LASSO penality\n",
    "    '''\n",
    "    phi = sc.linalg.toeplitz(y)\n",
    "    phi = phi[0:2,1:-1]\n",
    "    n = np.sqrt(len(y))\n",
    "    RootLassoEstimation = Variable(2)\n",
    "    objective = Minimize(n*sum_squares(y[2:] - phi.T@RootLassoEstimation)+muParam*pnorm(RootLassoEstimation,1))\n",
    "    prob = Problem(objective)\n",
    "    result = prob.solve(solver='CVXOPT')\n",
    "    return RootLassoEstimation.value"
   ]
  },
  {
   "cell_type": "code",
   "execution_count": 13,
   "metadata": {},
   "outputs": [
    {
     "name": "stdout",
     "output_type": "stream",
     "text": [
      "[[ 0.84784788]\n",
      " [ 0.14839314]]\n",
      "[[ 0.84636239]\n",
      " [ 0.14697074]]\n",
      "[[ 0.84487719]\n",
      " [ 0.14554807]]\n",
      "[[ 0.84339175]\n",
      " [ 0.14412564]]\n",
      "[[ 0.84190644]\n",
      " [ 0.14270307]]\n",
      "[[ 0.84042112]\n",
      " [ 0.14128051]]\n",
      "[[ 0.83893581]\n",
      " [ 0.13985796]]\n",
      "[[ 0.83745049]\n",
      " [ 0.1384354 ]]\n",
      "[[ 0.83596518]\n",
      " [ 0.13701283]]\n",
      "[[ 0.83447983]\n",
      " [ 0.13559031]]\n"
     ]
    }
   ],
   "source": [
    "for muParam in range(10):\n",
    "    RootLassoEstimation = RootLassoRegression(y,muParam*100+1)\n",
    "    print(RootLassoEstimation)"
   ]
  },
  {
   "cell_type": "code",
   "execution_count": null,
   "metadata": {
    "collapsed": true
   },
   "outputs": [],
   "source": []
  }
 ],
 "metadata": {
  "kernelspec": {
   "display_name": "Python 3",
   "language": "python",
   "name": "python3"
  },
  "language_info": {
   "codemirror_mode": {
    "name": "ipython",
    "version": 3
   },
   "file_extension": ".py",
   "mimetype": "text/x-python",
   "name": "python",
   "nbconvert_exporter": "python",
   "pygments_lexer": "ipython3",
   "version": "3.6.2"
  }
 },
 "nbformat": 4,
 "nbformat_minor": 2
}
